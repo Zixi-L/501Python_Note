{
 "cells": [
  {
   "cell_type": "code",
   "execution_count": 45,
   "metadata": {},
   "outputs": [],
   "source": [
    "## Python Class Note\n",
    "## Lecture 1"
   ]
  },
  {
   "cell_type": "code",
   "execution_count": 46,
   "metadata": {},
   "outputs": [
    {
     "name": "stdout",
     "output_type": "stream",
     "text": [
      "Wel\\come\n",
      "to\n",
      "\n",
      "Zixi's Python\n"
     ]
    }
   ],
   "source": [
    "# \\n : start a newline; or a black line\n",
    "# \\\\: insert a backlash\n",
    "# \\': insert a single quote character\n",
    "# \\\": insert a double quote character\n",
    "print('Wel\\\\come\\nto\\n\\nZixi\\'s Python')"
   ]
  },
  {
   "cell_type": "code",
   "execution_count": 6,
   "metadata": {},
   "outputs": [
    {
     "name": "stdout",
     "output_type": "stream",
     "text": [
      "this is a longer string, so wesplit it onver two lines\n"
     ]
    }
   ],
   "source": [
    "# \\ : line continuation character, and\n",
    "#will not start a new line on the output\n",
    "print('this is a longer string, so we\\\n",
    "split it onver two lines')"
   ]
  },
  {
   "cell_type": "code",
   "execution_count": 9,
   "metadata": {},
   "outputs": [
    {
     "name": "stdout",
     "output_type": "stream",
     "text": [
      "Truncate 5.2; 5.6; 2.5 : 5 and 5 and 2\n"
     ]
    }
   ],
   "source": [
    "# int(): Return an integer object constructed from a number or string x\n",
    "# Note that float nnot all float can be precisely represented as a floating point number\n",
    "# e.g: 2.5 = 2.49999999999999990001, when we around 2.5 in python, we get 2 (instead of 3)\n",
    "print('Truncate 5.2; 5.6; 2.5 :',int(5.2),'and',int(5.6), 'and', int(2.5))"
   ]
  },
  {
   "cell_type": "code",
   "execution_count": 14,
   "metadata": {},
   "outputs": [
    {
     "name": "stdout",
     "output_type": "stream",
     "text": [
      "7/4 = 1.75\n",
      "-13/4 = -3.25\n",
      "-13//4 = -4\n"
     ]
    }
   ],
   "source": [
    "# / : always return float \n",
    "#// : return the largest value that is not greater thant the real result\n",
    "print('7/4 =', 7/4 )\n",
    "print('-13/4 =',-13/4)\n",
    "print('-13//4 =',-13//4)"
   ]
  },
  {
   "cell_type": "code",
   "execution_count": 49,
   "metadata": {},
   "outputs": [],
   "source": [
    "# Triple Quote: delimited by ''' or \"\"\", recommended : \"\"\"\n",
    "# Applications\" Multiline strings, string containing single or double quotes; docstrings"
   ]
  },
  {
   "cell_type": "code",
   "execution_count": 50,
   "metadata": {},
   "outputs": [
    {
     "name": "stdout",
     "output_type": "stream",
     "text": [
      "Display \"hi\", and 'bye' in the quotes \n"
     ]
    }
   ],
   "source": [
    "# No need to worry about the escape sequence(/), or using '', \"\", in the string\n",
    "print(\"\"\"Display \"hi\", and 'bye' in the quotes \"\"\")"
   ]
  },
  {
   "cell_type": "code",
   "execution_count": 52,
   "metadata": {},
   "outputs": [
    {
     "name": "stdout",
     "output_type": "stream",
     "text": [
      "This is a triple-quoted\n",
      "string that spans two lines\n"
     ]
    }
   ],
   "source": [
    "# Only triple quotes can span strings as follow:\n",
    "tripe_quoted_string=\"\"\"This is a triple-quoted\n",
    "string that spans two lines\"\"\"\n",
    "print(tripe_quoted_string)"
   ]
  },
  {
   "cell_type": "code",
   "execution_count": 59,
   "metadata": {},
   "outputs": [
    {
     "name": "stdout",
     "output_type": "stream",
     "text": [
      "This is a lengthy\n",
      "  multiline string containing \n",
      "a few lines of text\n"
     ]
    }
   ],
   "source": [
    "# 3 spaces on the 2nd line showed\n",
    "print(\"\"\"This is a lengthy\n",
    "  multiline string containing \n",
    "a few lines \\\n",
    "of text\"\"\")"
   ]
  },
  {
   "cell_type": "code",
   "execution_count": 65,
   "metadata": {},
   "outputs": [],
   "source": [
    "string = \"\"\"This is a lengthy\n",
    "  multiline string containing \n",
    "a few lines \\\n",
    "of text\"\"\""
   ]
  },
  {
   "cell_type": "code",
   "execution_count": 68,
   "metadata": {},
   "outputs": [
    {
     "data": {
      "text/plain": [
       "'This is a lengthy\\n  multiline string containing \\na few lines of text'"
      ]
     },
     "execution_count": 68,
     "metadata": {},
     "output_type": "execute_result"
    }
   ],
   "source": [
    "# After lengthy, we have \\n\n",
    "# The line continuation character(on the 3rd line) did not show above, but shows here. \n",
    "string"
   ]
  },
  {
   "cell_type": "code",
   "execution_count": 69,
   "metadata": {},
   "outputs": [],
   "source": [
    "# A conclusion: print(string) 会保留输入时的格式，加入要改变格式，就需要用 \\  这些符号\n",
    "# 而直接不用print，像上个box里那样。就会整个做一行输出，因此 \\n 这些编辑格式的语法就会也被打印出来"
   ]
  },
  {
   "cell_type": "code",
   "execution_count": 2,
   "metadata": {},
   "outputs": [
    {
     "name": "stdout",
     "output_type": "stream",
     "text": [
      "Enter a number: 3\n",
      "Enter a number: 4\n"
     ]
    },
    {
     "data": {
      "text/plain": [
       "'34'"
      ]
     },
     "execution_count": 2,
     "metadata": {},
     "output_type": "execute_result"
    }
   ],
   "source": [
    "# input function always return a string\n",
    "v1 = input('Enter a number: ')\n",
    "v2 = input('Enter a number: ')\n",
    "v1+v2"
   ]
  },
  {
   "cell_type": "markdown",
   "metadata": {},
   "source": []
  },
  {
   "cell_type": "code",
   "execution_count": 3,
   "metadata": {},
   "outputs": [
    {
     "data": {
      "text/plain": [
       "True"
      ]
     },
     "execution_count": 3,
     "metadata": {},
     "output_type": "execute_result"
    }
   ],
   "source": [
    "x = 3\n",
    "1 <= x <= 5 # return true or false "
   ]
  },
  {
   "cell_type": "code",
   "execution_count": 4,
   "metadata": {},
   "outputs": [
    {
     "data": {
      "text/plain": [
       "False"
      ]
     },
     "execution_count": 4,
     "metadata": {},
     "output_type": "execute_result"
    }
   ],
   "source": [
    "x = 10\n",
    "1 <= x <= 5"
   ]
  },
  {
   "cell_type": "code",
   "execution_count": 5,
   "metadata": {},
   "outputs": [
    {
     "data": {
      "text/plain": [
       "512"
      ]
     },
     "execution_count": 5,
     "metadata": {},
     "output_type": "execute_result"
    }
   ],
   "source": [
    "# expotenation operation: from left to right\n",
    "2**3**2"
   ]
  },
  {
   "cell_type": "code",
   "execution_count": 15,
   "metadata": {},
   "outputs": [],
   "source": [
    "# Object does not have a variable referred to it, it is called garbage object, may not be found\n",
    "# in the future."
   ]
  },
  {
   "cell_type": "code",
   "execution_count": null,
   "metadata": {},
   "outputs": [],
   "source": []
  }
 ],
 "metadata": {
  "kernelspec": {
   "display_name": "Python 3",
   "language": "python",
   "name": "python3"
  },
  "language_info": {
   "codemirror_mode": {
    "name": "ipython",
    "version": 3
   },
   "file_extension": ".py",
   "mimetype": "text/x-python",
   "name": "python",
   "nbconvert_exporter": "python",
   "pygments_lexer": "ipython3",
   "version": "3.7.6"
  }
 },
 "nbformat": 4,
 "nbformat_minor": 4
}
